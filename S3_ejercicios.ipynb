{
  "nbformat": 4,
  "nbformat_minor": 0,
  "metadata": {
    "colab": {
      "name": "S3_ejercicios.ipynb",
      "provenance": [],
      "collapsed_sections": []
    },
    "kernelspec": {
      "name": "python3",
      "display_name": "Python 3"
    },
    "language_info": {
      "name": "python"
    }
  },
  "cells": [
    {
      "cell_type": "code",
      "execution_count": null,
      "metadata": {
        "id": "pimF7OJLESbA"
      },
      "outputs": [],
      "source": [
        ""
      ]
    },
    {
      "cell_type": "markdown",
      "source": [
        "# Curso de programación\n",
        "## Sesión 03 - Arrays en Numpy\n",
        "\n",
        "### Ejercicios\n",
        "\n",
        "Resuelva los ejercicios que se indican a continuación.\n",
        "\n",
        "@juan1rving"
      ],
      "metadata": {
        "id": "5eVFBt_VEYIO"
      }
    },
    {
      "cell_type": "code",
      "source": [
        "import numpy as np"
      ],
      "metadata": {
        "id": "lMTmmqqjE4zP"
      },
      "execution_count": 5,
      "outputs": []
    },
    {
      "cell_type": "markdown",
      "source": [
        "1. Cree una matriz de dos dimensiones con los cien primeros números al cuadrado. Ejemplo de una matriz de nueve elementos:\n",
        "\n",
        "$$\n",
        "M = \\begin{bmatrix}\n",
        "1 & 4 & 9 \\\\\n",
        "16 & 25 & 36 \\\\\n",
        "49 & 64 & 81 \n",
        "\\end{bmatrix}  \n",
        "$$"
      ],
      "metadata": {
        "id": "rJ1h3bUHEsI7"
      }
    },
    {
      "cell_type": "code",
      "source": [
        "M = None"
      ],
      "metadata": {
        "id": "Pft-d1jwEpw3"
      },
      "execution_count": 3,
      "outputs": []
    },
    {
      "cell_type": "markdown",
      "source": [
        "2. Convierta los elementos de la matriz M a valores flotantes de 32 bits"
      ],
      "metadata": {
        "id": "BlNSTqpEGuD9"
      }
    },
    {
      "cell_type": "code",
      "source": [
        ""
      ],
      "metadata": {
        "colab": {
          "base_uri": "https://localhost:8080/"
        },
        "id": "0Io0T8L5E_Lf",
        "outputId": "62ef5166-7fc2-4261-ea0b-0eb663c86da0"
      },
      "execution_count": 4,
      "outputs": [
        {
          "output_type": "execute_result",
          "data": {
            "text/plain": [
              "array([ 0,  1,  4,  9, 16, 25, 36, 49, 64, 81])"
            ]
          },
          "metadata": {},
          "execution_count": 4
        }
      ]
    },
    {
      "cell_type": "markdown",
      "source": [
        "3. Sume a cada elemento un uno."
      ],
      "metadata": {
        "id": "KTtsenQPHHVd"
      }
    },
    {
      "cell_type": "code",
      "source": [
        ""
      ],
      "metadata": {
        "id": "k2HugqAQFDb7"
      },
      "execution_count": null,
      "outputs": []
    },
    {
      "cell_type": "markdown",
      "source": [
        "4. Cree una matriz identidad de $3x3$ elementos. Use las funciones de numpy para crearla."
      ],
      "metadata": {
        "id": "_TnbcgJnIUjm"
      }
    },
    {
      "cell_type": "code",
      "source": [
        ""
      ],
      "metadata": {
        "id": "TtCD4eVEImU6"
      },
      "execution_count": null,
      "outputs": []
    },
    {
      "cell_type": "markdown",
      "source": [
        "5. Convierta la matriz identidad en una matriz con cincos en la diagonal."
      ],
      "metadata": {
        "id": "CNKJF55DJn59"
      }
    },
    {
      "cell_type": "code",
      "source": [
        ""
      ],
      "metadata": {
        "id": "zQv3P2gHJulk"
      },
      "execution_count": null,
      "outputs": []
    },
    {
      "cell_type": "markdown",
      "source": [
        "6. Dados los vectores $A = [7, 10, 1]$ y $B = [6, 5, 6]$. Calcule la suma vectorial de ambos y asignela a C. "
      ],
      "metadata": {
        "id": "cfMGPz1pJvH8"
      }
    },
    {
      "cell_type": "code",
      "source": [
        ""
      ],
      "metadata": {
        "id": "4RFKR0YrKTFP"
      },
      "execution_count": null,
      "outputs": []
    },
    {
      "cell_type": "markdown",
      "source": [
        "7. Cree una vista del elemento central de C."
      ],
      "metadata": {
        "id": "2TePeuXLKXA3"
      }
    },
    {
      "cell_type": "code",
      "source": [
        ""
      ],
      "metadata": {
        "id": "UQMFtwGHKoDa"
      },
      "execution_count": null,
      "outputs": []
    }
  ]
}