{
  "nbformat": 4,
  "nbformat_minor": 0,
  "metadata": {
    "colab": {
      "name": "S2_ejercicios.ipynb",
      "provenance": [],
      "collapsed_sections": []
    },
    "kernelspec": {
      "name": "python3",
      "display_name": "Python 3"
    },
    "language_info": {
      "name": "python"
    }
  },
  "cells": [
    {
      "cell_type": "markdown",
      "source": [
        "# Curso de programación de Arrays en Python\n",
        "## Ejercicios S2\n",
        "\n",
        "Resuelva cada uno de los ejercicios que se le solicitan\n",
        "\n",
        "@juan1rving"
      ],
      "metadata": {
        "id": "4BOIov9873_K"
      }
    },
    {
      "cell_type": "markdown",
      "source": [
        "1. Escribir un programa que muestre por pantalla el resultado de la siguiente operación aritmética.\n",
        " \n",
        "$$y = mx+b$$\n",
        "donde $m = 5$, $b = 10$ y $x$ es introducida por el usuario."
      ],
      "metadata": {
        "id": "bqWu2x91877a"
      }
    },
    {
      "cell_type": "code",
      "execution_count": null,
      "metadata": {
        "id": "zpGNaFzk7y8V"
      },
      "outputs": [],
      "source": [
        ""
      ]
    },
    {
      "cell_type": "markdown",
      "source": [
        "2. Escriba un programa que calcule la hipotenusa de un triángulo rectángulo dados los lados introducidos por el usuario."
      ],
      "metadata": {
        "id": "KIxspyAR991s"
      }
    },
    {
      "cell_type": "code",
      "source": [
        ""
      ],
      "metadata": {
        "id": "4WW-0x6v-T2A"
      },
      "execution_count": null,
      "outputs": []
    },
    {
      "cell_type": "markdown",
      "source": [
        "3. Calcule el área de un circulo, donde el radio es introducido por el usuario."
      ],
      "metadata": {
        "id": "8OO4HaBk-USn"
      }
    },
    {
      "cell_type": "code",
      "source": [
        ""
      ],
      "metadata": {
        "id": "fLV7bDp---5T"
      },
      "execution_count": null,
      "outputs": []
    },
    {
      "cell_type": "markdown",
      "source": [
        "4. Cree una variable llamada *frase* que contenga la oración \"El respeto al derecho ajeno es la paz\"."
      ],
      "metadata": {
        "id": "K6Iq3kRG-_pm"
      }
    },
    {
      "cell_type": "code",
      "source": [
        ""
      ],
      "metadata": {
        "id": "l_OKL_8S_pSF"
      },
      "execution_count": null,
      "outputs": []
    },
    {
      "cell_type": "markdown",
      "source": [
        "5. Imprima desde la variable del ejericio anterior solo la primera mitad de la oración y en sentido inverso."
      ],
      "metadata": {
        "id": "XsVKlSZ3_pqE"
      }
    },
    {
      "cell_type": "code",
      "source": [
        ""
      ],
      "metadata": {
        "id": "HAooSnWVAYvn"
      },
      "execution_count": null,
      "outputs": []
    }
  ]
}
