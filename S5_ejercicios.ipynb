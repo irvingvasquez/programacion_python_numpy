{
  "nbformat": 4,
  "nbformat_minor": 0,
  "metadata": {
    "colab": {
      "name": "S4_ejercicios.ipynb",
      "provenance": [],
      "collapsed_sections": []
    },
    "kernelspec": {
      "name": "python3",
      "display_name": "Python 3"
    },
    "language_info": {
      "name": "python"
    }
  },
  "cells": [
    {
      "cell_type": "code",
      "execution_count": null,
      "metadata": {
        "id": "4cAurLKg7oCg"
      },
      "outputs": [],
      "source": [
        ""
      ]
    },
    {
      "cell_type": "markdown",
      "source": [
        "# Programación\n",
        "\n",
        "## Ejercicios\n",
        "@juan1rving\n",
        "\n",
        "1. Genere una lista con con los primeros 10 múltiplos de 3\n",
        "2. Mediante un ciclo for sume a cada elemento 2\n",
        "3. Mediante una comprensión reste a cada elemento 2 para llegar a la lista original\n",
        "4. Genere un numpy array de dimensiones (10,2) que contenga elementos aleatorios\n",
        "5. Genere en una lista los enteros del 1 al 50\n",
        "6. Mediante una comprensión genere la serie:\n",
        "$$\\frac{1}{i²}$$ obteniendo $i$ de la lista del ejercicio 5."
      ],
      "metadata": {
        "id": "AIFVwfaF7rZY"
      }
    },
    {
      "cell_type": "code",
      "source": [
        ""
      ],
      "metadata": {
        "id": "V_L5IdQ67-pT"
      },
      "execution_count": null,
      "outputs": []
    }
  ]
}