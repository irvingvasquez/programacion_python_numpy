{
  "nbformat": 4,
  "nbformat_minor": 0,
  "metadata": {
    "colab": {
      "name": "S4_ejercicios.ipynb",
      "provenance": []
    },
    "kernelspec": {
      "name": "python3",
      "display_name": "Python 3"
    },
    "language_info": {
      "name": "python"
    }
  },
  "cells": [
    {
      "cell_type": "markdown",
      "source": [
        "\n",
        "# Programación en Python\n",
        "## Estructuras de control condicional y repetitivas\n",
        "\n",
        "### Ejercicios\n",
        "\n",
        "@juan1rving\n",
        "\n",
        "Instituto Politécnico Nacional"
      ],
      "metadata": {
        "id": "87KNeWyZ3tvq"
      }
    },
    {
      "cell_type": "markdown",
      "source": [
        "1. Escriba un programa que determine cuántos números multiplos de 3 se encuentran entre 1 y N. Siendo N introducido por el usuario.\n",
        "2. Escriba un programa que convierta un grados centígrados a grados Farenheith.\n",
        "3. Esciba un programa que calcule el factorial del un número introducido por el usuario.\n",
        "4. Determine si una matriz de $3 x 3$ es una matriz identidad.\n",
        "5. Determine si la traza de una matriz cuadrada es mayor que su dimensión."
      ],
      "metadata": {
        "id": "_b45Sb724KVR"
      }
    },
    {
      "cell_type": "code",
      "execution_count": null,
      "metadata": {
        "id": "1_nMsIIf3eAA"
      },
      "outputs": [],
      "source": [
        ""
      ]
    }
  ]
}